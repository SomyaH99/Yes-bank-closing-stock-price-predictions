{
  "nbformat": 4,
  "nbformat_minor": 0,
  "metadata": {
    "colab": {
      "provenance": [],
      "collapsed_sections": [],
      "authorship_tag": "ABX9TyOFyOri2yOW9yXBK88/cV4a",
      "include_colab_link": true
    },
    "kernelspec": {
      "name": "python3",
      "display_name": "Python 3"
    },
    "language_info": {
      "name": "python"
    }
  },
  "cells": [
    {
      "cell_type": "markdown",
      "metadata": {
        "id": "view-in-github",
        "colab_type": "text"
      },
      "source": [
        "<a href=\"https://colab.research.google.com/github/SomyaH99/Yes-bank-closing-stock-price-predictions/blob/main/Closing_Stock_price_prediction_analysis.ipynb\" target=\"_parent\"><img src=\"https://colab.research.google.com/assets/colab-badge.svg\" alt=\"Open In Colab\"/></a>"
      ]
    },
    {
      "cell_type": "markdown",
      "source": [
        "**Problem Statement**\n",
        "\n",
        "Yes Bank is a well-known bank in the Indian financial domain. Since 2018, it has been in the\n",
        "news because of the fraud case involving Rana Kapoor. Owing to this fact, it was interesting\n",
        "to see how that impacted the stock prices of the company and whether Time series models\n",
        "or any other predictive models can do justice to such situations. This dataset has monthly\n",
        "stock prices of the bank since its inception and includes closing, starting, highest, and lowest\n",
        "stock prices of every month. The main objective is to predict the stock’s closing price of the\n",
        "month.~"
      ],
      "metadata": {
        "id": "c2mA_zyQ9NP2"
      }
    },
    {
      "cell_type": "markdown",
      "source": [
        "**Data Description**\n",
        "\n",
        "We've the YES BANK Stock price dataset which has the monthly stock prices of the bank since its inception. It contains the following features:\n",
        "\n",
        " **Date**: It denotes date of investment done (in our case we have month and year).\n",
        "\n",
        "**Open**: Open means the price at which a stock started trading when the opening bell rang.\n",
        "\n",
        "**High**: High refer to the maximum prices in a given time period.\n",
        "\n",
        "**Low**: Low refer to the minimum prices in a given time period.\n",
        "\n",
        "**Close**: Close refers to the price of an individual stock when the stock exchange closed for the day."
      ],
      "metadata": {
        "id": "abtJ1T7OAKll"
      }
    },
    {
      "cell_type": "code",
      "execution_count": null,
      "metadata": {
        "id": "39wSqauz6XaB"
      },
      "outputs": [],
      "source": []
    }
  ]
}